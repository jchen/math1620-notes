{
  "cells": [
    {
      "cell_type": "code",
      "execution_count": 1,
      "metadata": {
        "id": "ygDPStXcxUSX"
      },
      "outputs": [],
      "source": [
        "from scipy.stats import norm\n",
        "import math\n",
        "import matplotlib.pyplot as plt"
      ]
    },
    {
      "cell_type": "markdown",
      "metadata": {
        "id": "IUQNAHPz9UVT"
      },
      "source": [
        "Suppose we have a normal distribution with standard deviation $\\sigma=10$ and unknown variance. We will take a random sample of size $n=25$. \n",
        "\n",
        "Our null hypothesis $H_0$ is that $\\mu=170$. And our alternative hypothesis $H_A$ is that $\\mu>170$. \n",
        "\n",
        "Our hypothesis test is to reject the null if $\\overline{X}\\ge 172$. "
      ]
    },
    {
      "cell_type": "markdown",
      "metadata": {
        "id": "QQoyM1Or96Ar"
      },
      "source": [
        "# Computing Type 1 and 2 Error, and Power"
      ]
    },
    {
      "cell_type": "markdown",
      "metadata": {
        "id": "-_qGjM-C9vp1"
      },
      "source": [
        "#### Question 1: "
      ]
    },
    {
      "cell_type": "markdown",
      "metadata": {
        "id": "OIs57c9-G4N-"
      },
      "source": [
        "What is the probability of committing a Type 1 Error?"
      ]
    },
    {
      "cell_type": "markdown",
      "metadata": {
        "id": "MqmqIyZiF6oF"
      },
      "source": [
        "#### Solution 1:\n"
      ]
    },
    {
      "cell_type": "code",
      "execution_count": 2,
      "metadata": {
        "colab": {
          "base_uri": "https://localhost:8080/"
        },
        "id": "_PAzk3TOpj8l",
        "outputId": "34472f4c-4dfd-4737-8ad0-52078b817e7f"
      },
      "outputs": [
        {
          "data": {
            "text/plain": [
              "0.15865525393145707"
            ]
          },
          "execution_count": 2,
          "metadata": {},
          "output_type": "execute_result"
        }
      ],
      "source": [
        "1 - norm.cdf(1)"
      ]
    },
    {
      "cell_type": "markdown",
      "metadata": {
        "id": "u8zgW1GB-EBk"
      },
      "source": [
        "#### Question 2: "
      ]
    },
    {
      "cell_type": "markdown",
      "metadata": {
        "id": "WG2AF6mhG9Kk"
      },
      "source": [
        "If we knew that the mean is $\\mu=173$, what is the probability of committing a Type II error? "
      ]
    },
    {
      "cell_type": "markdown",
      "metadata": {
        "id": "ZXVXN3odGYwt"
      },
      "source": [
        "#### Solution 2:\n"
      ]
    },
    {
      "cell_type": "markdown",
      "metadata": {
        "id": "mbvSiuJHpsU4"
      },
      "source": [
        "We want to compute the probability our sample mean is less than 172 given $\\mu = 173$. That is, $\\Pr(\\bar{X} < 172)$ if $\\mu = 173$. \n",
        "$$\\Pr\\left(\\frac{(\\bar{X} - \\mu)}{\\sigma/\\sqrt{n}} < \\frac{172 - 173}{\\sigma/\\sqrt{n}}\\right) = \\Pr(Z < -0.5) = \\Phi(-0.5) \\approx 0.3085$$"
      ]
    },
    {
      "cell_type": "code",
      "execution_count": 3,
      "metadata": {
        "colab": {
          "base_uri": "https://localhost:8080/"
        },
        "id": "AmiUe6tYponr",
        "outputId": "1f7bf5fc-3e32-4781-e098-4d5fc1abd74a"
      },
      "outputs": [
        {
          "data": {
            "text/plain": [
              "0.3085375387259869"
            ]
          },
          "execution_count": 3,
          "metadata": {},
          "output_type": "execute_result"
        }
      ],
      "source": [
        "norm.cdf(-0.5)"
      ]
    },
    {
      "cell_type": "markdown",
      "metadata": {
        "id": "q0BfmpPc-dTB"
      },
      "source": [
        "#### Question 3: "
      ]
    },
    {
      "cell_type": "markdown",
      "metadata": {
        "id": "roa8dXIJHOJz"
      },
      "source": [
        "What is the probability of making a correct decision if $\\mu=173$?"
      ]
    },
    {
      "cell_type": "markdown",
      "metadata": {
        "id": "XF2V2NjhGhwa"
      },
      "source": [
        "#### Solution 3:\n"
      ]
    },
    {
      "cell_type": "markdown",
      "metadata": {
        "id": "7pftOsW4rUsV"
      },
      "source": [
        "This is $1 - \\text{(type II error)}$. \n",
        "\n",
        "The power of a hypothesis test is the probability of making the correct decision if the alternative hypothesis $H_A$ is true. Since $\\mu = 173$, the alternative is true. \n",
        "\n",
        "We want to compute $\\Pr(\\bar{X}\\geq 172)$ if $\\mu = 173$. We already computed $\\Pr(\\bar{X}< 172)$ when $\\mu = 173$, so the answer is $1 - \\Phi(-0.5)$. "
      ]
    },
    {
      "cell_type": "code",
      "execution_count": 4,
      "metadata": {
        "colab": {
          "base_uri": "https://localhost:8080/"
        },
        "id": "zEtDCzPKrwHx",
        "outputId": "8eebc53a-f7a4-4de4-d57c-b234c0f5aa16"
      },
      "outputs": [
        {
          "data": {
            "text/plain": [
              "0.6914624612740131"
            ]
          },
          "execution_count": 4,
          "metadata": {},
          "output_type": "execute_result"
        }
      ],
      "source": [
        "1 - norm.cdf(-0.5)"
      ]
    },
    {
      "cell_type": "markdown",
      "metadata": {
        "id": "4LHVAiDi-RhP"
      },
      "source": [
        "# Computing Power Functions"
      ]
    },
    {
      "cell_type": "markdown",
      "metadata": {
        "id": "kQP6bi3s-kZ9"
      },
      "source": [
        "In general, for any hypothesis test, there are two goals:\n",
        "\n",
        "\n",
        "1.   Minimize the probability $\\alpha$ of committing a Type 1 error. \n",
        "2.   Maximize the power $K(\\mu)$, which is equivalent to minimizing the probability of committing a Type II error, $\\beta(\\mu)$. \n",
        "\n"
      ]
    },
    {
      "cell_type": "markdown",
      "metadata": {
        "id": "y5FW4sK7r-tE"
      },
      "source": [
        "We generally want $\\alpha$ to be $<0.1$ and $\\beta < 0.2$ (so power $>0.8$). "
      ]
    },
    {
      "cell_type": "markdown",
      "metadata": {
        "id": "bZ-BX0Sp_icM"
      },
      "source": [
        "Suppose that $X$ is normally distributed with mean $\\mu$, $\\sigma = 16$, and suppose we take $n=16$ random samples. Set $\\alpha = 0.05$. \n",
        "\n",
        "\n"
      ]
    },
    {
      "cell_type": "markdown",
      "metadata": {
        "id": "JneE-w0kHeeF"
      },
      "source": [
        "#### Question 4: "
      ]
    },
    {
      "cell_type": "markdown",
      "metadata": {
        "id": "ArAtlHmsxd6A"
      },
      "source": [
        "Given that the hypotheses are $H_0:\\mu=100$ and $H_A:\\mu>100$, our hypothesis test is to reject the null hypothesis if $\\overline{X}\\ge c$. What is $c$ given $\\alpha=0.05$?\n"
      ]
    },
    {
      "cell_type": "markdown",
      "metadata": {
        "id": "GVXJNYheHjvL"
      },
      "source": [
        "#### Solution 4:"
      ]
    },
    {
      "cell_type": "markdown",
      "metadata": {
        "id": "EyuKO1nOs9y_"
      },
      "source": [
        "We run things in reverse, using inverse cdf. We set Type I error to be 0.05, $\\Pr(\\bar{X} > c) = 0.05$ when $\\mu = 100$, so \n",
        "$$\\Pr\\left(\\frac{\\bar{X} - \\mu}{\\sigma / \\sqrt{n}} \\geq \\frac{c - \\mu}{\\sigma / \\sqrt{n}}\\right) = 0.05$$\n",
        "in particular, $\\Pr(Z \\geq 0.25(c - 100)) = 1 - \\Phi(0.25 c - 25) = 0.05$ so $c = 5\\cdot \\Phi^{-1}(0.95) + 100$. "
      ]
    },
    {
      "cell_type": "code",
      "execution_count": 5,
      "metadata": {
        "colab": {
          "base_uri": "https://localhost:8080/"
        },
        "id": "z5FrdALetU_B",
        "outputId": "a917ea76-29bb-4559-e897-dc7ff4b9de95"
      },
      "outputs": [
        {
          "data": {
            "text/plain": [
              "106.5794145078059"
            ]
          },
          "execution_count": 5,
          "metadata": {},
          "output_type": "execute_result"
        }
      ],
      "source": [
        "c = 4 * norm.ppf(0.95) + 100\n",
        "c"
      ]
    },
    {
      "cell_type": "markdown",
      "metadata": {
        "id": "R13XfCsABGL_"
      },
      "source": [
        "#### Question 5: "
      ]
    },
    {
      "cell_type": "markdown",
      "metadata": {
        "id": "XSqplBT8Hnyg"
      },
      "source": [
        "What is the power of the resulting hypothesis test if $\\mu=108$? "
      ]
    },
    {
      "cell_type": "markdown",
      "metadata": {
        "id": "Dkwd2XyTrvw-"
      },
      "source": [
        "#### Solution 5:\n",
        "\n"
      ]
    },
    {
      "cell_type": "markdown",
      "metadata": {
        "id": "jQKo8K3wtxiO"
      },
      "source": [
        "This is, \n",
        "$$\\Pr\\left(\\frac{\\bar{X} - \\mu}{\\sigma / \\sqrt{n}} < \\frac{c - 108}{\\sigma / \\sqrt{n}}\\right)$$\n",
        "which is \n",
        "$$\\Pr(Z < -0.35515) = \\Phi(-0.35515)$$\n",
        "and the power is \n",
        "$$1 - \\Phi(-0.35515)$$"
      ]
    },
    {
      "cell_type": "code",
      "execution_count": 6,
      "metadata": {
        "colab": {
          "base_uri": "https://localhost:8080/"
        },
        "id": "7v2MdPjrtrY0",
        "outputId": "2684577f-f160-4e5a-eee8-992605d6a698"
      },
      "outputs": [
        {
          "data": {
            "text/plain": [
              "0.6387600313123348"
            ]
          },
          "execution_count": 6,
          "metadata": {},
          "output_type": "execute_result"
        }
      ],
      "source": [
        "1 - norm.cdf((c - 108) / (16 / math.sqrt(16)))"
      ]
    },
    {
      "cell_type": "markdown",
      "metadata": {
        "id": "7Lo9eA5AvV6y"
      },
      "source": [
        "What happens when we change the mean to $\\mu = 112$? "
      ]
    },
    {
      "cell_type": "code",
      "execution_count": 7,
      "metadata": {
        "colab": {
          "base_uri": "https://localhost:8080/"
        },
        "id": "xz-rDxK3vYoo",
        "outputId": "4aee6c61-34dd-4332-a575-ad368283d6f2"
      },
      "outputs": [
        {
          "data": {
            "text/plain": [
              "0.9123145367502963"
            ]
          },
          "execution_count": 7,
          "metadata": {},
          "output_type": "execute_result"
        }
      ],
      "source": [
        "1 - norm.cdf((c - 112) / (16 / math.sqrt(16)))"
      ]
    },
    {
      "cell_type": "code",
      "execution_count": 8,
      "metadata": {
        "colab": {
          "base_uri": "https://localhost:8080/"
        },
        "id": "mdR1VnSpvZ6h",
        "outputId": "4f5dcde5-18de-4376-d65d-25aea540e35f"
      },
      "outputs": [
        {
          "data": {
            "text/plain": [
              "0.9907422946265045"
            ]
          },
          "execution_count": 8,
          "metadata": {},
          "output_type": "execute_result"
        }
      ],
      "source": [
        "1 - norm.cdf((c - 116) / (16 / math.sqrt(16)))"
      ]
    },
    {
      "cell_type": "markdown",
      "metadata": {
        "id": "Tkr6LrBbBUJY"
      },
      "source": [
        "#### Question 6: "
      ]
    },
    {
      "cell_type": "markdown",
      "metadata": {
        "id": "18bngJBGHsnt"
      },
      "source": [
        "Plot the power as a function of $\\mu$."
      ]
    },
    {
      "cell_type": "markdown",
      "metadata": {
        "id": "-p-Jrk1rHvOM"
      },
      "source": [
        "#### Solution 6:"
      ]
    },
    {
      "cell_type": "code",
      "execution_count": 9,
      "metadata": {
        "colab": {
          "base_uri": "https://localhost:8080/",
          "height": 406
        },
        "id": "z4HCp8FiwJXD",
        "outputId": "7cc3e00a-e876-4090-bf5e-91ffe6d297e9"
      },
      "outputs": [
        {
          "name": "stdout",
          "output_type": "stream",
          "text": [
            "c : 106.5794145078059\n"
          ]
        },
        {
          "data": {
            "image/png": "[encoded data removed]",
            "text/plain": [
              "<Figure size 720x432 with 1 Axes>"
            ]
          },
          "metadata": {
            "needs_background": "light"
          },
          "output_type": "display_data"
        }
      ],
      "source": [
        "n = 16\n",
        "sigma = 16\n",
        "alpha = 0.05\n",
        "null_mu = 100\n",
        "# Alternate is > null_mu\n",
        "c = (sigma / math.sqrt(n)) * norm.ppf(1 - alpha) + null_mu\n",
        "print(f\"c : {c}\")\n",
        "power = lambda actual_mu: 1 - norm.cdf((c - actual_mu) / (sigma / math.sqrt(n)))\n",
        "\n",
        "probs_005 = [power(mu) for mu in range(100, 120)]\n",
        "\n",
        "plt.figure(figsize=(10,6))\n",
        "plt.plot(range(null_mu,null_mu + 20), probs_005)\n",
        "plt.xlabel(\"mu\")\n",
        "plt.ylabel(\"K(mu)\")\n",
        "\n",
        "plt.show()"
      ]
    },
    {
      "cell_type": "markdown",
      "metadata": {
        "id": "MeUwhUu5xX7x"
      },
      "source": [
        "The distance above the curve is the probability of Type II error. \n",
        "\n",
        "The height of the curve at intercept is the Type I error."
      ]
    },
    {
      "cell_type": "markdown",
      "metadata": {
        "id": "qtz1ACtLBa5M"
      },
      "source": [
        "#### Question 7: "
      ]
    },
    {
      "cell_type": "markdown",
      "metadata": {
        "id": "DtdGMIZlHylq"
      },
      "source": [
        "Change $\\alpha$ to $0.01$, and recompute $c$. Then plot the new power function on the same graph. "
      ]
    },
    {
      "cell_type": "markdown",
      "metadata": {
        "id": "FtAS6hjUHzls"
      },
      "source": [
        "#### Solution 7:"
      ]
    },
    {
      "cell_type": "code",
      "execution_count": 10,
      "metadata": {
        "colab": {
          "base_uri": "https://localhost:8080/",
          "height": 406
        },
        "id": "a6g7ASGvxmCv",
        "outputId": "64e301ff-7335-4002-d164-75edc027206c"
      },
      "outputs": [
        {
          "name": "stdout",
          "output_type": "stream",
          "text": [
            "c : 109.30539149616337\n"
          ]
        },
        {
          "data": {
            "image/png": "[encoded data removed]",
            "text/plain": [
              "<Figure size 720x432 with 1 Axes>"
            ]
          },
          "metadata": {
            "needs_background": "light"
          },
          "output_type": "display_data"
        }
      ],
      "source": [
        "n = 16\n",
        "sigma = 16\n",
        "alpha = 0.01\n",
        "null_mu = 100\n",
        "# Alternate is > null_mu\n",
        "c = (sigma / math.sqrt(n)) * norm.ppf(1 - alpha) + null_mu\n",
        "print(f\"c : {c}\")\n",
        "power = lambda actual_mu: 1 - norm.cdf((c - actual_mu) / (sigma / math.sqrt(n)))\n",
        "\n",
        "probs_001 = [power(mu) for mu in range(100, 120)]\n",
        "\n",
        "plt.figure(figsize=(10,6))\n",
        "plt.plot(range(null_mu,null_mu + 20), probs_005)\n",
        "plt.plot(range(null_mu,null_mu + 20), probs_001)\n",
        "plt.xlabel(\"mu\")\n",
        "plt.ylabel(\"K(mu)\")\n",
        "\n",
        "plt.show()"
      ]
    },
    {
      "cell_type": "markdown",
      "metadata": {
        "id": "YrOTLfrnyD2G"
      },
      "source": [
        "Decreasing $\\alpha$, $\\beta$ went up. This is a tradeoff between Type I and Type II error. "
      ]
    },
    {
      "attachments": {},
      "cell_type": "markdown",
      "metadata": {
        "id": "EU0nMzdBEYGy"
      },
      "source": [
        "# Increasing the sample size to decrease $\\alpha$ and $\\beta$. "
      ]
    },
    {
      "cell_type": "code",
      "execution_count": 14,
      "metadata": {
        "colab": {
          "base_uri": "https://localhost:8080/",
          "height": 240
        },
        "id": "vsRibvuXzp5a",
        "outputId": "c8eef364-e908-4e3e-e60e-5467221e2264"
      },
      "outputs": [
        {
          "name": "stdout",
          "output_type": "stream",
          "text": [
            "c : 103.28970725390295\n",
            "power 108 : 0.9907422946265045\n",
            "power 112 : 0.9999933510984903\n",
            "power 116 : 0.9999999998958858\n"
          ]
        }
      ],
      "source": [
        "# Question 8\n",
        "n = 64\n",
        "sigma = 16\n",
        "alpha = 0.05\n",
        "null_mu = 100\n",
        "# Alternate is > null_mu\n",
        "c = (sigma / math.sqrt(n)) * norm.ppf(1 - alpha) + null_mu\n",
        "print(f\"c : {c}\")\n",
        "power = lambda actual_mu: 1 - norm.cdf((c - actual_mu) / (sigma / math.sqrt(n)))\n",
        "print(f\"power 108 : {power(108)}\")\n",
        "print(f\"power 112 : {power(112)}\")\n",
        "print(f\"power 116 : {power(116)}\")"
      ]
    },
    {
      "cell_type": "code",
      "execution_count": 19,
      "metadata": {},
      "outputs": [
        {
          "name": "stdout",
          "output_type": "stream",
          "text": [
            "c : 106.5794145078059\n",
            "c : 103.28970725390295\n"
          ]
        },
        {
          "data": {
            "image/png": "[encoded data removed]",
            "text/plain": [
              "<Figure size 720x432 with 1 Axes>"
            ]
          },
          "metadata": {
            "needs_background": "light"
          },
          "output_type": "display_data"
        }
      ],
      "source": [
        "plt.figure(figsize=(10,6))\n",
        "\n",
        "for n in [16, 64]:\n",
        "    sigma = 16\n",
        "    alpha = 0.05\n",
        "    null_mu = 100\n",
        "    # Alternate is > null_mu\n",
        "    c = (sigma / math.sqrt(n)) * norm.ppf(1 - alpha) + null_mu\n",
        "    print(f\"c : {c}\")\n",
        "    power = lambda actual_mu: 1 - norm.cdf((c - actual_mu) / (sigma / math.sqrt(n)))\n",
        "    probs = [power(mu) for mu in range(100, 120)]\n",
        "    plt.plot(range(null_mu,null_mu + 20), probs)\n",
        "\n",
        "plt.xlabel(\"mu\")\n",
        "plt.ylabel(\"K(mu)\")\n",
        "plt.show()"
      ]
    },
    {
      "cell_type": "code",
      "execution_count": 29,
      "metadata": {},
      "outputs": [
        {
          "data": {
            "text/plain": [
              "12.331940184961882"
            ]
          },
          "execution_count": 29,
          "metadata": {},
          "output_type": "execute_result"
        }
      ],
      "source": [
        "# Question 9\n",
        "z_scores = norm.ppf(.95) - norm.ppf(.10)\n",
        "target_std = (45 - 40) / z_scores\n",
        "pop_std = 6\n",
        "(pop_std / target_std) ** 2"
      ]
    },
    {
      "cell_type": "code",
      "execution_count": 27,
      "metadata": {},
      "outputs": [
        {
          "data": {
            "text/plain": [
              "42.81036548043522"
            ]
          },
          "execution_count": 27,
          "metadata": {},
          "output_type": "execute_result"
        }
      ],
      "source": [
        "40 + norm.ppf(.95) * target_std"
      ]
    },
    {
      "attachments": {},
      "cell_type": "markdown",
      "metadata": {},
      "source": [
        "**This is our statement:**\n",
        "\n",
        "This makes my decision threshold 42.81. So if I were to take 13 samples and reject the null if the sample mean exceeds 42.737, I have a 5% chance of making a Type I error and a 10% chance of making a Type II error."
      ]
    },
    {
      "cell_type": "code",
      "execution_count": 39,
      "metadata": {},
      "outputs": [
        {
          "data": {
            "text/plain": [
              "[1000.40590057227]"
            ]
          },
          "execution_count": 39,
          "metadata": {},
          "output_type": "execute_result"
        }
      ],
      "source": [
        "# Question 10\n",
        "from sympy.solvers import solve\n",
        "from sympy import Symbol\n",
        "n = Symbol('n')\n",
        "null_c = (0.5 + norm.ppf(0.99) * (0.5 / n ** (1/2)))\n",
        "altern_c = (0.55 - norm.ppf(0.80) * (0.497 / n ** (1/2)))\n",
        "solve(null_c - altern_c, n)"
      ]
    },
    {
      "cell_type": "code",
      "execution_count": 42,
      "metadata": {},
      "outputs": [
        {
          "data": {
            "text/latex": [
              "$\\displaystyle 0.55 - \\frac{0.418285753085738}{n^{0.5}}$"
            ],
            "text/plain": [
              "0.55 - 0.418285753085738/n**0.5"
            ]
          },
          "execution_count": 42,
          "metadata": {},
          "output_type": "execute_result"
        }
      ],
      "source": [
        "null_c"
      ]
    },
    {
      "cell_type": "code",
      "execution_count": 44,
      "metadata": {},
      "outputs": [
        {
          "data": {
            "text/latex": [
              "$\\displaystyle 0.55 - \\frac{0.418285753085738}{n^{0.5}}$"
            ],
            "text/plain": [
              "0.55 - 0.418285753085738/n**0.5"
            ]
          },
          "execution_count": 44,
          "metadata": {},
          "output_type": "execute_result"
        }
      ],
      "source": [
        "altern_c"
      ]
    },
    {
      "cell_type": "code",
      "execution_count": null,
      "metadata": {},
      "outputs": [],
      "source": []
    }
  ],
  "metadata": {
    "colab": {
      "provenance": []
    },
    "kernelspec": {
      "display_name": "base",
      "language": "python",
      "name": "python3"
    },
    "language_info": {
      "codemirror_mode": {
        "name": "ipython",
        "version": 3
      },
      "file_extension": ".py",
      "mimetype": "text/x-python",
      "name": "python",
      "nbconvert_exporter": "python",
      "pygments_lexer": "ipython3",
      "version": "3.10.6"
    },
    "vscode": {
      "interpreter": {
        "hash": "c6e4e9f98eb68ad3b7c296f83d20e6de614cb42e90992a65aa266555a3137d0d"
      }
    }
  },
  "nbformat": 4,
  "nbformat_minor": 0
}
