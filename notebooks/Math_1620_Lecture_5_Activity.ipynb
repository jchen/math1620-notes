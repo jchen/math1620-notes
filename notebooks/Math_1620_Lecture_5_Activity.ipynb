{
  "cells": [
    {
      "attachments": {},
      "cell_type": "markdown",
      "metadata": {
        "id": "7UeBxhokVa-F"
      },
      "source": [
        "Question 1: Suppose we have two samples $X_1,\\cdots X_n$ and $Y_1,\\cdots, Y_n$ collected from two distributions, one with mean $\\mu_1$ and the other with mean $\\mu_2$. \n",
        "\n",
        "Let $\\delta=\\mu_1 - \\mu_2$ so that $H_0$ is $\\delta=0$ and $H_1$ is $\\delta\\neq 0$.  \n",
        "\n",
        "Our test statistic is $\\hat{\\theta} = \\bar{X} - \\bar{Y}$.\n",
        "\n",
        "a) Compute the Wald test statistic $W=\\frac{\\hat\\theta-\\theta_0}{\\hat{\\rm{se}}}$. "
      ]
    },
    {
      "cell_type": "code",
      "execution_count": 2,
      "metadata": {},
      "outputs": [],
      "source": [
        "import numpy as np\n",
        "\n",
        "mu_x = 0\n",
        "sigma_x = 1\n",
        "m = 30\n",
        "dist_x = np.random.normal(mu_x, sigma_x, m)\n",
        "\n",
        "mu_y = 0.2\n",
        "sigma_y = 1\n",
        "n = 20\n",
        "dist_y = np.random.normal(mu_y, sigma_y, n)"
      ]
    },
    {
      "cell_type": "markdown",
      "metadata": {
        "id": "dfKSf9m2WCI0"
      },
      "source": [
        "b) On the board we computed the $p$-value of the Wald test. Compute this p-value for the observed value of the test statistic W computed above."
      ]
    },
    {
      "cell_type": "code",
      "execution_count": 13,
      "metadata": {},
      "outputs": [
        {
          "data": {
            "text/plain": [
              "-0.902908199705452"
            ]
          },
          "execution_count": 13,
          "metadata": {},
          "output_type": "execute_result"
        }
      ],
      "source": [
        "X_bar = np.mean(dist_x)\n",
        "Y_bar = np.mean(dist_y)\n",
        "\n",
        "s_x_sq = 1/(m-1) * np.sum([(x-X_bar)**2 for x in dist_x])\n",
        "s_y_sq = 1/(n-1) * np.sum([(y-Y_bar)**2 for y in dist_y])\n",
        "\n",
        "delta_hat = X_bar - Y_bar\n",
        "se = np.sqrt(s_x_sq/m + s_y_sq/n)\n",
        "\n",
        "W = delta_hat/se\n",
        "W"
      ]
    },
    {
      "cell_type": "code",
      "execution_count": 15,
      "metadata": {},
      "outputs": [
        {
          "data": {
            "text/plain": [
              "0.3665746184185954"
            ]
          },
          "execution_count": 15,
          "metadata": {},
          "output_type": "execute_result"
        }
      ],
      "source": [
        "from scipy.stats import norm\n",
        "p = 2*(norm.cdf(-abs(W)))\n",
        "p"
      ]
    },
    {
      "cell_type": "markdown",
      "metadata": {
        "id": "CBIltwhmWdSN"
      },
      "source": [
        "c) What happens to our $p$-value as we move the second distribution from $\\mu_2=-10$ to $\\mu_2=10$ and recompute it? Plot a graph. "
      ]
    },
    {
      "cell_type": "code",
      "execution_count": 16,
      "metadata": {},
      "outputs": [],
      "source": [
        "p_vals = []\n",
        "\n",
        "for mu_y in range(-10, 10):\n",
        "    mu_x = 0\n",
        "    sigma_x = 1\n",
        "    m = 30\n",
        "    dist_x = np.random.normal(mu_x, sigma_x, m)\n",
        "\n",
        "    sigma_y = 1\n",
        "    n = 20\n",
        "    dist_y = np.random.normal(mu_y, sigma_y, n)\n",
        "\n",
        "    X_bar = np.mean(dist_x)\n",
        "    Y_bar = np.mean(dist_y)\n",
        "\n",
        "    s_x_sq = 1/(m-1) * np.sum([(x-X_bar)**2 for x in dist_x])\n",
        "    s_y_sq = 1/(n-1) * np.sum([(y-Y_bar)**2 for y in dist_y])\n",
        "\n",
        "    delta_hat = X_bar - Y_bar\n",
        "    se = np.sqrt(s_x_sq/m + s_y_sq/n)\n",
        "\n",
        "    W = delta_hat/se\n",
        "    p = 2*(norm.cdf(-abs(W)))\n",
        "    p_vals.append(p)\n",
        "\n",
        "# Plot p_vals"
      ]
    },
    {
      "cell_type": "markdown",
      "metadata": {
        "id": "geAeDOomWrVS"
      },
      "source": [
        "Question 2: Under the null hypothesis, can we see that the $p$-values of the Wald test are $\\rm{Uniform}(0,1)$? "
      ]
    },
    {
      "cell_type": "code",
      "execution_count": 17,
      "metadata": {},
      "outputs": [],
      "source": [
        "Ws = []\n",
        "ps = []\n",
        "for _ in range(10000):\n",
        "    mu_x = 0\n",
        "    sigma_x = 1\n",
        "    m = 30\n",
        "    dist_x = np.random.normal(mu_x, sigma_x, m)\n",
        "\n",
        "    mu_y = 0.2\n",
        "    sigma_y = 1\n",
        "    n = 20\n",
        "    dist_y = np.random.normal(mu_y, sigma_y, n)\n",
        "\n",
        "    X_bar = np.mean(dist_x)\n",
        "    Y_bar = np.mean(dist_y)\n",
        "\n",
        "    s_x_sq = 1/(m-1) * np.sum([(x-X_bar)**2 for x in dist_x])\n",
        "    s_y_sq = 1/(n-1) * np.sum([(y-Y_bar)**2 for y in dist_y])\n",
        "\n",
        "    delta_hat = X_bar - Y_bar\n",
        "    se = np.sqrt(s_x_sq/m + s_y_sq/n)\n",
        "\n",
        "    W = delta_hat/se\n",
        "    Ws.append(W)\n",
        "    p = 2*(norm.cdf(-abs(W)))\n",
        "    ps.append(p)\n",
        "    \n",
        "# Plot"
      ]
    },
    {
      "cell_type": "markdown",
      "metadata": {
        "id": "sgHjqodIW5pM"
      },
      "source": [
        "Question 3: In general, can we see that a cdf of a continuous distribution is uniformly distributed?"
      ]
    }
  ],
  "metadata": {
    "colab": {
      "provenance": []
    },
    "kernelspec": {
      "display_name": "base",
      "language": "python",
      "name": "python3"
    },
    "language_info": {
      "codemirror_mode": {
        "name": "ipython",
        "version": 3
      },
      "file_extension": ".py",
      "mimetype": "text/x-python",
      "name": "python",
      "nbconvert_exporter": "python",
      "pygments_lexer": "ipython3",
      "version": "3.10.6"
    },
    "vscode": {
      "interpreter": {
        "hash": "c6e4e9f98eb68ad3b7c296f83d20e6de614cb42e90992a65aa266555a3137d0d"
      }
    }
  },
  "nbformat": 4,
  "nbformat_minor": 0
}
